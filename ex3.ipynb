{
 "cells": [
  {
   "cell_type": "markdown",
   "id": "ce52f8a3",
   "metadata": {},
   "source": [
    "# Imbalanced classification: credit card fraud detection\n",
    "### This example looks at the Kaggle Credit Card Fraud Detection dataset to demonstrate how to train a classification model on data with highly imbalanced classes."
   ]
  },
  {
   "cell_type": "code",
   "execution_count": 1,
   "id": "fc2d2c77",
   "metadata": {},
   "outputs": [],
   "source": [
    "import csv\n",
    "import numpy as np"
   ]
  },
  {
   "cell_type": "markdown",
   "id": "3f00a813",
   "metadata": {},
   "source": [
    "## Get the real data from https://www.kaggle.com/mlg-ulb/creditcardfraud/\n"
   ]
  },
  {
   "cell_type": "code",
   "execution_count": 4,
   "id": "bf3ea326",
   "metadata": {},
   "outputs": [],
   "source": [
    "fname = \"Downloads/creditcard.csv\""
   ]
  },
  {
   "cell_type": "markdown",
   "id": "2b6e428a",
   "metadata": {},
   "source": [
    "## vectorize the CSV data\n"
   ]
  },
  {
   "cell_type": "code",
   "execution_count": 6,
   "id": "f339826a",
   "metadata": {},
   "outputs": [
    {
     "name": "stdout",
     "output_type": "stream",
     "text": [
      "HEADER: \"Time\",\"V1\",\"V2\",\"V3\",\"V4\",\"V5\",\"V6\",\"V7\",\"V8\",\"V9\",\"V10\",\"V11\",\"V12\",\"V13\",\"V14\",\"V15\",\"V16\",\"V17\",\"V18\",\"V19\",\"V20\",\"V21\",\"V22\",\"V23\",\"V24\",\"V25\",\"V26\",\"V27\",\"V28\",\"Amount\",\"Class\"\n",
      "EXAMPLE FEATURES: [0.0, -1.3598071336738, -0.0727811733098497, 2.53634673796914, 1.37815522427443, -0.338320769942518, 0.462387777762292, 0.239598554061257, 0.0986979012610507, 0.363786969611213, 0.0907941719789316, -0.551599533260813, -0.617800855762348, -0.991389847235408, -0.311169353699879, 1.46817697209427, -0.470400525259478, 0.207971241929242, 0.0257905801985591, 0.403992960255733, 0.251412098239705, -0.018306777944153, 0.277837575558899, -0.110473910188767, 0.0669280749146731, 0.128539358273528, -0.189114843888824, 0.133558376740387, -0.0210530534538215, 149.62]\n",
      "features.shape: (284807, 30)\n",
      "targets.shape: (284807, 1)\n"
     ]
    }
   ],
   "source": [
    "all_features = []\n",
    "all_targets = []\n",
    "with open(fname) as f:\n",
    "    for i, line in enumerate(f):\n",
    "        if i == 0:\n",
    "            print(\"HEADER:\", line.strip())\n",
    "            continue  # Skip header\n",
    "        fields = line.strip().split(\",\")\n",
    "        all_features.append([float(v.replace('\"', \"\")) for v in fields[:-1]])\n",
    "        all_targets.append([int(fields[-1].replace('\"', \"\"))])\n",
    "        if i == 1:\n",
    "            print(\"EXAMPLE FEATURES:\", all_features[-1])\n",
    "features = np.array(all_features, dtype=\"float32\")\n",
    "targets = np.array(all_targets, dtype=\"uint8\")\n",
    "print(\"features.shape:\", features.shape)\n",
    "print(\"targets.shape:\", targets.shape)           "
   ]
  },
  {
   "cell_type": "markdown",
   "id": "3e1b3fae",
   "metadata": {},
   "source": [
    "## Prepare a validation set to find and optimize the best model "
   ]
  },
  {
   "cell_type": "code",
   "execution_count": 7,
   "id": "8f6310e2",
   "metadata": {},
   "outputs": [
    {
     "name": "stdout",
     "output_type": "stream",
     "text": [
      "Number of training samples: 227846\n",
      "Number of validation samples: 56961\n"
     ]
    }
   ],
   "source": [
    "num_val_samples = int(len(features) * 0.2)\n",
    "train_features = features[:-num_val_samples]\n",
    "train_targets = targets[:-num_val_samples]\n",
    "val_features = features[-num_val_samples:]\n",
    "val_targets = targets[-num_val_samples:]\n",
    "\n",
    "print(\"Number of training samples:\", len(train_features))\n",
    "print(\"Number of validation samples:\", len(val_features))"
   ]
  },
  {
   "cell_type": "markdown",
   "id": "94680e8d",
   "metadata": {},
   "source": [
    "## Analyze class imbalance in the targets"
   ]
  },
  {
   "cell_type": "code",
   "execution_count": 8,
   "id": "05795830",
   "metadata": {},
   "outputs": [
    {
     "name": "stdout",
     "output_type": "stream",
     "text": [
      "Number of positive samples in training data: 417 (0.18% of total)\n"
     ]
    }
   ],
   "source": [
    "counts = np.bincount(train_targets[:, 0])\n",
    "print(\n",
    "    \"Number of positive samples in training data: {} ({:.2f}% of total)\".format(\n",
    "        counts[1], 100 * float(counts[1]) / len(train_targets)\n",
    "    )\n",
    ")\n",
    "\n",
    "weight_for_0 = 1.0 / counts[0]\n",
    "weight_for_1 = 1.0 / counts[1]"
   ]
  },
  {
   "cell_type": "markdown",
   "id": "9e1c1299",
   "metadata": {},
   "source": [
    "# Normalize the data using training set statistics This improves the accuracy and integrity of our data, while making our database easier to navigate."
   ]
  },
  {
   "cell_type": "code",
   "execution_count": 9,
   "id": "7deff625",
   "metadata": {},
   "outputs": [],
   "source": [
    "mean = np.mean(train_features, axis=0)\n",
    "train_features -= mean\n",
    "val_features -= mean\n",
    "std = np.std(train_features, axis=0)\n",
    "train_features /= std\n",
    "val_features /= std"
   ]
  },
  {
   "cell_type": "markdown",
   "id": "c677177b",
   "metadata": {},
   "source": [
    "# Build a binary classification model"
   ]
  },
  {
   "cell_type": "code",
   "execution_count": 10,
   "id": "830d3066",
   "metadata": {},
   "outputs": [
    {
     "name": "stdout",
     "output_type": "stream",
     "text": [
      "Model: \"sequential\"\n",
      "_________________________________________________________________\n",
      " Layer (type)                Output Shape              Param #   \n",
      "=================================================================\n",
      " dense (Dense)               (None, 256)               7936      \n",
      "                                                                 \n",
      " dense_1 (Dense)             (None, 256)               65792     \n",
      "                                                                 \n",
      " dropout (Dropout)           (None, 256)               0         \n",
      "                                                                 \n",
      " dense_2 (Dense)             (None, 256)               65792     \n",
      "                                                                 \n",
      " dropout_1 (Dropout)         (None, 256)               0         \n",
      "                                                                 \n",
      " dense_3 (Dense)             (None, 1)                 257       \n",
      "                                                                 \n",
      "=================================================================\n",
      "Total params: 139,777\n",
      "Trainable params: 139,777\n",
      "Non-trainable params: 0\n",
      "_________________________________________________________________\n"
     ]
    }
   ],
   "source": [
    "from tensorflow import keras\n",
    "\n",
    "model = keras.Sequential(\n",
    "    [\n",
    "        keras.layers.Dense(\n",
    "            256, activation=\"relu\", input_shape=(train_features.shape[-1],)\n",
    "        ),\n",
    "        keras.layers.Dense(256, activation=\"relu\"),\n",
    "        keras.layers.Dropout(0.3),\n",
    "        keras.layers.Dense(256, activation=\"relu\"),\n",
    "        keras.layers.Dropout(0.3),\n",
    "        keras.layers.Dense(1, activation=\"sigmoid\"),\n",
    "    ]\n",
    ")\n",
    "model.summary()"
   ]
  },
  {
   "cell_type": "markdown",
   "id": "b8a90c53",
   "metadata": {},
   "source": [
    "# Train the model with class_weight argument  to adjust such setting"
   ]
  },
  {
   "cell_type": "code",
   "execution_count": 11,
   "id": "804a0b75",
   "metadata": {},
   "outputs": [
    {
     "name": "stdout",
     "output_type": "stream",
     "text": [
      "Epoch 1/30\n",
      "112/112 - 13s - loss: 2.4827e-06 - fn: 41.0000 - fp: 29692.0000 - tn: 197737.0000 - tp: 376.0000 - precision: 0.0125 - recall: 0.9017 - val_loss: 0.2236 - val_fn: 5.0000 - val_fp: 3198.0000 - val_tn: 53688.0000 - val_tp: 70.0000 - val_precision: 0.0214 - val_recall: 0.9333 - 13s/epoch - 117ms/step\n",
      "Epoch 2/30\n",
      "112/112 - 4s - loss: 1.5712e-06 - fn: 32.0000 - fp: 7440.0000 - tn: 219989.0000 - tp: 385.0000 - precision: 0.0492 - recall: 0.9233 - val_loss: 0.0998 - val_fn: 7.0000 - val_fp: 1059.0000 - val_tn: 55827.0000 - val_tp: 68.0000 - val_precision: 0.0603 - val_recall: 0.9067 - 4s/epoch - 32ms/step\n",
      "Epoch 3/30\n",
      "112/112 - 4s - loss: 1.3212e-06 - fn: 32.0000 - fp: 7050.0000 - tn: 220379.0000 - tp: 385.0000 - precision: 0.0518 - recall: 0.9233 - val_loss: 0.0943 - val_fn: 9.0000 - val_fp: 767.0000 - val_tn: 56119.0000 - val_tp: 66.0000 - val_precision: 0.0792 - val_recall: 0.8800 - 4s/epoch - 37ms/step\n",
      "Epoch 4/30\n",
      "112/112 - 4s - loss: 1.0374e-06 - fn: 28.0000 - fp: 6420.0000 - tn: 221009.0000 - tp: 389.0000 - precision: 0.0571 - recall: 0.9329 - val_loss: 0.0452 - val_fn: 9.0000 - val_fp: 629.0000 - val_tn: 56257.0000 - val_tp: 66.0000 - val_precision: 0.0950 - val_recall: 0.8800 - 4s/epoch - 33ms/step\n",
      "Epoch 5/30\n",
      "112/112 - 4s - loss: 1.0198e-06 - fn: 20.0000 - fp: 6705.0000 - tn: 220724.0000 - tp: 397.0000 - precision: 0.0559 - recall: 0.9520 - val_loss: 0.1036 - val_fn: 8.0000 - val_fp: 1752.0000 - val_tn: 55134.0000 - val_tp: 67.0000 - val_precision: 0.0368 - val_recall: 0.8933 - 4s/epoch - 33ms/step\n",
      "Epoch 6/30\n",
      "112/112 - 4s - loss: 9.5554e-07 - fn: 25.0000 - fp: 7467.0000 - tn: 219962.0000 - tp: 392.0000 - precision: 0.0499 - recall: 0.9400 - val_loss: 0.0699 - val_fn: 9.0000 - val_fp: 1147.0000 - val_tn: 55739.0000 - val_tp: 66.0000 - val_precision: 0.0544 - val_recall: 0.8800 - 4s/epoch - 32ms/step\n",
      "Epoch 7/30\n",
      "112/112 - 4s - loss: 7.2259e-07 - fn: 16.0000 - fp: 6735.0000 - tn: 220694.0000 - tp: 401.0000 - precision: 0.0562 - recall: 0.9616 - val_loss: 0.0321 - val_fn: 8.0000 - val_fp: 588.0000 - val_tn: 56298.0000 - val_tp: 67.0000 - val_precision: 0.1023 - val_recall: 0.8933 - 4s/epoch - 36ms/step\n",
      "Epoch 8/30\n",
      "112/112 - 4s - loss: 6.4555e-07 - fn: 13.0000 - fp: 7244.0000 - tn: 220185.0000 - tp: 404.0000 - precision: 0.0528 - recall: 0.9688 - val_loss: 0.0353 - val_fn: 7.0000 - val_fp: 804.0000 - val_tn: 56082.0000 - val_tp: 68.0000 - val_precision: 0.0780 - val_recall: 0.9067 - 4s/epoch - 34ms/step\n",
      "Epoch 9/30\n",
      "112/112 - 4s - loss: 1.0896e-06 - fn: 19.0000 - fp: 9443.0000 - tn: 217986.0000 - tp: 398.0000 - precision: 0.0404 - recall: 0.9544 - val_loss: 0.0608 - val_fn: 7.0000 - val_fp: 1201.0000 - val_tn: 55685.0000 - val_tp: 68.0000 - val_precision: 0.0536 - val_recall: 0.9067 - 4s/epoch - 33ms/step\n",
      "Epoch 10/30\n",
      "112/112 - 4s - loss: 6.5993e-07 - fn: 14.0000 - fp: 6556.0000 - tn: 220873.0000 - tp: 403.0000 - precision: 0.0579 - recall: 0.9664 - val_loss: 0.0148 - val_fn: 10.0000 - val_fp: 305.0000 - val_tn: 56581.0000 - val_tp: 65.0000 - val_precision: 0.1757 - val_recall: 0.8667 - 4s/epoch - 36ms/step\n",
      "Epoch 11/30\n",
      "112/112 - 4s - loss: 5.1550e-07 - fn: 9.0000 - fp: 5177.0000 - tn: 222252.0000 - tp: 408.0000 - precision: 0.0731 - recall: 0.9784 - val_loss: 0.0356 - val_fn: 8.0000 - val_fp: 592.0000 - val_tn: 56294.0000 - val_tp: 67.0000 - val_precision: 0.1017 - val_recall: 0.8933 - 4s/epoch - 35ms/step\n",
      "Epoch 12/30\n",
      "112/112 - 4s - loss: 5.5300e-07 - fn: 8.0000 - fp: 5979.0000 - tn: 221450.0000 - tp: 409.0000 - precision: 0.0640 - recall: 0.9808 - val_loss: 0.1657 - val_fn: 5.0000 - val_fp: 4554.0000 - val_tn: 52332.0000 - val_tp: 70.0000 - val_precision: 0.0151 - val_recall: 0.9333 - 4s/epoch - 35ms/step\n",
      "Epoch 13/30\n",
      "112/112 - 4s - loss: 7.1827e-07 - fn: 12.0000 - fp: 7488.0000 - tn: 219941.0000 - tp: 405.0000 - precision: 0.0513 - recall: 0.9712 - val_loss: 0.0206 - val_fn: 10.0000 - val_fp: 311.0000 - val_tn: 56575.0000 - val_tp: 65.0000 - val_precision: 0.1729 - val_recall: 0.8667 - 4s/epoch - 33ms/step\n",
      "Epoch 14/30\n",
      "112/112 - 4s - loss: 5.7626e-07 - fn: 9.0000 - fp: 5771.0000 - tn: 221658.0000 - tp: 408.0000 - precision: 0.0660 - recall: 0.9784 - val_loss: 0.0222 - val_fn: 10.0000 - val_fp: 328.0000 - val_tn: 56558.0000 - val_tp: 65.0000 - val_precision: 0.1654 - val_recall: 0.8667 - 4s/epoch - 34ms/step\n",
      "Epoch 15/30\n",
      "112/112 - 4s - loss: 3.6534e-07 - fn: 4.0000 - fp: 4148.0000 - tn: 223281.0000 - tp: 413.0000 - precision: 0.0906 - recall: 0.9904 - val_loss: 0.0270 - val_fn: 9.0000 - val_fp: 501.0000 - val_tn: 56385.0000 - val_tp: 66.0000 - val_precision: 0.1164 - val_recall: 0.8800 - 4s/epoch - 40ms/step\n",
      "Epoch 16/30\n",
      "112/112 - 5s - loss: 8.4252e-07 - fn: 7.0000 - fp: 5597.0000 - tn: 221832.0000 - tp: 410.0000 - precision: 0.0683 - recall: 0.9832 - val_loss: 0.1867 - val_fn: 8.0000 - val_fp: 1653.0000 - val_tn: 55233.0000 - val_tp: 67.0000 - val_precision: 0.0390 - val_recall: 0.8933 - 5s/epoch - 44ms/step\n",
      "Epoch 17/30\n",
      "112/112 - 4s - loss: 1.8874e-06 - fn: 26.0000 - fp: 11288.0000 - tn: 216141.0000 - tp: 391.0000 - precision: 0.0335 - recall: 0.9376 - val_loss: 0.0363 - val_fn: 10.0000 - val_fp: 514.0000 - val_tn: 56372.0000 - val_tp: 65.0000 - val_precision: 0.1123 - val_recall: 0.8667 - 4s/epoch - 37ms/step\n",
      "Epoch 18/30\n",
      "112/112 - 4s - loss: 7.2202e-07 - fn: 13.0000 - fp: 5392.0000 - tn: 222037.0000 - tp: 404.0000 - precision: 0.0697 - recall: 0.9688 - val_loss: 0.0704 - val_fn: 6.0000 - val_fp: 1102.0000 - val_tn: 55784.0000 - val_tp: 69.0000 - val_precision: 0.0589 - val_recall: 0.9200 - 4s/epoch - 39ms/step\n",
      "Epoch 19/30\n",
      "112/112 - 4s - loss: 4.7373e-07 - fn: 9.0000 - fp: 3683.0000 - tn: 223746.0000 - tp: 408.0000 - precision: 0.0997 - recall: 0.9784 - val_loss: 0.0598 - val_fn: 8.0000 - val_fp: 832.0000 - val_tn: 56054.0000 - val_tp: 67.0000 - val_precision: 0.0745 - val_recall: 0.8933 - 4s/epoch - 39ms/step\n",
      "Epoch 20/30\n",
      "112/112 - 4s - loss: 3.7003e-07 - fn: 5.0000 - fp: 3956.0000 - tn: 223473.0000 - tp: 412.0000 - precision: 0.0943 - recall: 0.9880 - val_loss: 0.0610 - val_fn: 8.0000 - val_fp: 1054.0000 - val_tn: 55832.0000 - val_tp: 67.0000 - val_precision: 0.0598 - val_recall: 0.8933 - 4s/epoch - 36ms/step\n",
      "Epoch 21/30\n",
      "112/112 - 4s - loss: 3.2794e-07 - fn: 4.0000 - fp: 3594.0000 - tn: 223835.0000 - tp: 413.0000 - precision: 0.1031 - recall: 0.9904 - val_loss: 0.0608 - val_fn: 9.0000 - val_fp: 915.0000 - val_tn: 55971.0000 - val_tp: 66.0000 - val_precision: 0.0673 - val_recall: 0.8800 - 4s/epoch - 39ms/step\n",
      "Epoch 22/30\n",
      "112/112 - 4s - loss: 3.2908e-07 - fn: 3.0000 - fp: 2945.0000 - tn: 224484.0000 - tp: 414.0000 - precision: 0.1233 - recall: 0.9928 - val_loss: 0.1361 - val_fn: 6.0000 - val_fp: 3576.0000 - val_tn: 53310.0000 - val_tp: 69.0000 - val_precision: 0.0189 - val_recall: 0.9200 - 4s/epoch - 38ms/step\n",
      "Epoch 23/30\n",
      "112/112 - 4s - loss: 3.7241e-07 - fn: 5.0000 - fp: 3898.0000 - tn: 223531.0000 - tp: 412.0000 - precision: 0.0956 - recall: 0.9880 - val_loss: 0.0129 - val_fn: 11.0000 - val_fp: 227.0000 - val_tn: 56659.0000 - val_tp: 64.0000 - val_precision: 0.2199 - val_recall: 0.8533 - 4s/epoch - 39ms/step\n",
      "Epoch 24/30\n",
      "112/112 - 4s - loss: 2.8439e-07 - fn: 3.0000 - fp: 3198.0000 - tn: 224231.0000 - tp: 414.0000 - precision: 0.1146 - recall: 0.9928 - val_loss: 0.1113 - val_fn: 7.0000 - val_fp: 2222.0000 - val_tn: 54664.0000 - val_tp: 68.0000 - val_precision: 0.0297 - val_recall: 0.9067 - 4s/epoch - 35ms/step\n",
      "Epoch 25/30\n",
      "112/112 - 4s - loss: 3.0460e-07 - fn: 2.0000 - fp: 3977.0000 - tn: 223452.0000 - tp: 415.0000 - precision: 0.0945 - recall: 0.9952 - val_loss: 0.0169 - val_fn: 11.0000 - val_fp: 297.0000 - val_tn: 56589.0000 - val_tp: 64.0000 - val_precision: 0.1773 - val_recall: 0.8533 - 4s/epoch - 35ms/step\n",
      "Epoch 26/30\n",
      "112/112 - 4s - loss: 2.3258e-07 - fn: 4.0000 - fp: 2441.0000 - tn: 224988.0000 - tp: 413.0000 - precision: 0.1447 - recall: 0.9904 - val_loss: 0.0150 - val_fn: 11.0000 - val_fp: 291.0000 - val_tn: 56595.0000 - val_tp: 64.0000 - val_precision: 0.1803 - val_recall: 0.8533 - 4s/epoch - 39ms/step\n",
      "Epoch 27/30\n",
      "112/112 - 4s - loss: 6.3354e-07 - fn: 4.0000 - fp: 5264.0000 - tn: 222165.0000 - tp: 413.0000 - precision: 0.0727 - recall: 0.9904 - val_loss: 0.0307 - val_fn: 9.0000 - val_fp: 454.0000 - val_tn: 56432.0000 - val_tp: 66.0000 - val_precision: 0.1269 - val_recall: 0.8800 - 4s/epoch - 38ms/step\n"
     ]
    },
    {
     "name": "stdout",
     "output_type": "stream",
     "text": [
      "Epoch 28/30\n",
      "112/112 - 4s - loss: 5.5188e-07 - fn: 11.0000 - fp: 5510.0000 - tn: 221919.0000 - tp: 406.0000 - precision: 0.0686 - recall: 0.9736 - val_loss: 0.0388 - val_fn: 10.0000 - val_fp: 785.0000 - val_tn: 56101.0000 - val_tp: 65.0000 - val_precision: 0.0765 - val_recall: 0.8667 - 4s/epoch - 34ms/step\n",
      "Epoch 29/30\n",
      "112/112 - 5s - loss: 4.3319e-07 - fn: 4.0000 - fp: 3642.0000 - tn: 223787.0000 - tp: 413.0000 - precision: 0.1018 - recall: 0.9904 - val_loss: 0.0129 - val_fn: 13.0000 - val_fp: 157.0000 - val_tn: 56729.0000 - val_tp: 62.0000 - val_precision: 0.2831 - val_recall: 0.8267 - 5s/epoch - 42ms/step\n",
      "Epoch 30/30\n",
      "112/112 - 5s - loss: 2.9011e-07 - fn: 3.0000 - fp: 2004.0000 - tn: 225425.0000 - tp: 414.0000 - precision: 0.1712 - recall: 0.9928 - val_loss: 0.0316 - val_fn: 9.0000 - val_fp: 682.0000 - val_tn: 56204.0000 - val_tp: 66.0000 - val_precision: 0.0882 - val_recall: 0.8800 - 5s/epoch - 41ms/step\n"
     ]
    },
    {
     "data": {
      "text/plain": [
       "<keras.callbacks.History at 0x1eda4e75c70>"
      ]
     },
     "execution_count": 11,
     "metadata": {},
     "output_type": "execute_result"
    }
   ],
   "source": [
    "metrics = [\n",
    "    keras.metrics.FalseNegatives(name=\"fn\"),\n",
    "    keras.metrics.FalsePositives(name=\"fp\"),\n",
    "    keras.metrics.TrueNegatives(name=\"tn\"),\n",
    "    keras.metrics.TruePositives(name=\"tp\"),\n",
    "    keras.metrics.Precision(name=\"precision\"),\n",
    "    keras.metrics.Recall(name=\"recall\"),\n",
    "]\n",
    "\n",
    "model.compile(\n",
    "    optimizer=keras.optimizers.Adam(1e-2), loss=\"binary_crossentropy\", metrics=metrics\n",
    ")\n",
    "\n",
    "callbacks = [keras.callbacks.ModelCheckpoint(\"fraud_model_at_epoch_{epoch}.h5\")]\n",
    "class_weight = {0: weight_for_0, 1: weight_for_1}\n",
    "\n",
    "model.fit(\n",
    "    train_features,\n",
    "    train_targets,\n",
    "    batch_size=2048,\n",
    "    epochs=30,\n",
    "    verbose=2,\n",
    "    callbacks=callbacks,\n",
    "    validation_data=(val_features, val_targets),\n",
    "    class_weight=class_weight,\n",
    ")"
   ]
  },
  {
   "cell_type": "markdown",
   "id": "08183fb1",
   "metadata": {},
   "source": [
    "# Conclusion\n",
    "At the end of training, out of 56,961 validation transactions, we are:\n",
    "\n",
    "Correctly identifying 66 of them as fraudulent\n",
    "Missing 9 fraudulent transactions\n",
    "At the cost of incorrectly flagging 441 legitimate transactions"
   ]
  },
  {
   "cell_type": "code",
   "execution_count": null,
   "id": "94873772",
   "metadata": {},
   "outputs": [],
   "source": []
  }
 ],
 "metadata": {
  "kernelspec": {
   "display_name": "Python 3 (ipykernel)",
   "language": "python",
   "name": "python3"
  },
  "language_info": {
   "codemirror_mode": {
    "name": "ipython",
    "version": 3
   },
   "file_extension": ".py",
   "mimetype": "text/x-python",
   "name": "python",
   "nbconvert_exporter": "python",
   "pygments_lexer": "ipython3",
   "version": "3.9.7"
  }
 },
 "nbformat": 4,
 "nbformat_minor": 5
}
